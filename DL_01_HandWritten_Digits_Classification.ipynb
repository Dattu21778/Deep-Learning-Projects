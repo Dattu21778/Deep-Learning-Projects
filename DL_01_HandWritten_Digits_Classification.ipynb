{
  "nbformat": 4,
  "nbformat_minor": 0,
  "metadata": {
    "colab": {
      "provenance": []
    },
    "kernelspec": {
      "name": "python3",
      "display_name": "Python 3"
    },
    "language_info": {
      "name": "python"
    }
  },
  "cells": [
    {
      "cell_type": "markdown",
      "source": [
        "**Loading Libraries**"
      ],
      "metadata": {
        "id": "F3C1UTwkU87F"
      }
    },
    {
      "cell_type": "code",
      "execution_count": 1,
      "metadata": {
        "id": "TD6Kuku3T9T4"
      },
      "outputs": [],
      "source": [
        "import tensorflow as tf\n",
        "from tensorflow import keras\n",
        "import matplotlib.pyplot as plt\n",
        "%matplotlib inline\n",
        "import numpy as np"
      ]
    },
    {
      "cell_type": "code",
      "source": [
        "(X_train, y_train), (X_test, y_test) = keras.datasets.mnist.load_data()"
      ],
      "metadata": {
        "id": "6zXNqg60VKf2"
      },
      "execution_count": 2,
      "outputs": []
    },
    {
      "cell_type": "code",
      "source": [
        "print(type(X_train))\n",
        "X_train.shape"
      ],
      "metadata": {
        "colab": {
          "base_uri": "https://localhost:8080/"
        },
        "id": "RHyH4u5jVW4l",
        "outputId": "15cf7307-9eef-4b70-ea58-6f4c222eeb75"
      },
      "execution_count": 3,
      "outputs": [
        {
          "output_type": "stream",
          "name": "stdout",
          "text": [
            "<class 'numpy.ndarray'>\n"
          ]
        },
        {
          "output_type": "execute_result",
          "data": {
            "text/plain": [
              "(60000, 28, 28)"
            ]
          },
          "metadata": {},
          "execution_count": 3
        }
      ]
    },
    {
      "cell_type": "code",
      "source": [
        "X_test.shape"
      ],
      "metadata": {
        "colab": {
          "base_uri": "https://localhost:8080/"
        },
        "id": "KwekNtMTg_xc",
        "outputId": "3b1bd062-1c65-491e-c311-dd57e9283200"
      },
      "execution_count": 4,
      "outputs": [
        {
          "output_type": "execute_result",
          "data": {
            "text/plain": [
              "(10000, 28, 28)"
            ]
          },
          "metadata": {},
          "execution_count": 4
        }
      ]
    },
    {
      "cell_type": "code",
      "source": [
        "print(X_train[0].shape)\n",
        "print(X_train[0])"
      ],
      "metadata": {
        "colab": {
          "base_uri": "https://localhost:8080/"
        },
        "id": "qbmKtgDEVY3E",
        "outputId": "1aada10f-488a-4f4f-c517-7ea34e2ddd24"
      },
      "execution_count": 5,
      "outputs": [
        {
          "output_type": "stream",
          "name": "stdout",
          "text": [
            "(28, 28)\n",
            "[[  0   0   0   0   0   0   0   0   0   0   0   0   0   0   0   0   0   0\n",
            "    0   0   0   0   0   0   0   0   0   0]\n",
            " [  0   0   0   0   0   0   0   0   0   0   0   0   0   0   0   0   0   0\n",
            "    0   0   0   0   0   0   0   0   0   0]\n",
            " [  0   0   0   0   0   0   0   0   0   0   0   0   0   0   0   0   0   0\n",
            "    0   0   0   0   0   0   0   0   0   0]\n",
            " [  0   0   0   0   0   0   0   0   0   0   0   0   0   0   0   0   0   0\n",
            "    0   0   0   0   0   0   0   0   0   0]\n",
            " [  0   0   0   0   0   0   0   0   0   0   0   0   0   0   0   0   0   0\n",
            "    0   0   0   0   0   0   0   0   0   0]\n",
            " [  0   0   0   0   0   0   0   0   0   0   0   0   3  18  18  18 126 136\n",
            "  175  26 166 255 247 127   0   0   0   0]\n",
            " [  0   0   0   0   0   0   0   0  30  36  94 154 170 253 253 253 253 253\n",
            "  225 172 253 242 195  64   0   0   0   0]\n",
            " [  0   0   0   0   0   0   0  49 238 253 253 253 253 253 253 253 253 251\n",
            "   93  82  82  56  39   0   0   0   0   0]\n",
            " [  0   0   0   0   0   0   0  18 219 253 253 253 253 253 198 182 247 241\n",
            "    0   0   0   0   0   0   0   0   0   0]\n",
            " [  0   0   0   0   0   0   0   0  80 156 107 253 253 205  11   0  43 154\n",
            "    0   0   0   0   0   0   0   0   0   0]\n",
            " [  0   0   0   0   0   0   0   0   0  14   1 154 253  90   0   0   0   0\n",
            "    0   0   0   0   0   0   0   0   0   0]\n",
            " [  0   0   0   0   0   0   0   0   0   0   0 139 253 190   2   0   0   0\n",
            "    0   0   0   0   0   0   0   0   0   0]\n",
            " [  0   0   0   0   0   0   0   0   0   0   0  11 190 253  70   0   0   0\n",
            "    0   0   0   0   0   0   0   0   0   0]\n",
            " [  0   0   0   0   0   0   0   0   0   0   0   0  35 241 225 160 108   1\n",
            "    0   0   0   0   0   0   0   0   0   0]\n",
            " [  0   0   0   0   0   0   0   0   0   0   0   0   0  81 240 253 253 119\n",
            "   25   0   0   0   0   0   0   0   0   0]\n",
            " [  0   0   0   0   0   0   0   0   0   0   0   0   0   0  45 186 253 253\n",
            "  150  27   0   0   0   0   0   0   0   0]\n",
            " [  0   0   0   0   0   0   0   0   0   0   0   0   0   0   0  16  93 252\n",
            "  253 187   0   0   0   0   0   0   0   0]\n",
            " [  0   0   0   0   0   0   0   0   0   0   0   0   0   0   0   0   0 249\n",
            "  253 249  64   0   0   0   0   0   0   0]\n",
            " [  0   0   0   0   0   0   0   0   0   0   0   0   0   0  46 130 183 253\n",
            "  253 207   2   0   0   0   0   0   0   0]\n",
            " [  0   0   0   0   0   0   0   0   0   0   0   0  39 148 229 253 253 253\n",
            "  250 182   0   0   0   0   0   0   0   0]\n",
            " [  0   0   0   0   0   0   0   0   0   0  24 114 221 253 253 253 253 201\n",
            "   78   0   0   0   0   0   0   0   0   0]\n",
            " [  0   0   0   0   0   0   0   0  23  66 213 253 253 253 253 198  81   2\n",
            "    0   0   0   0   0   0   0   0   0   0]\n",
            " [  0   0   0   0   0   0  18 171 219 253 253 253 253 195  80   9   0   0\n",
            "    0   0   0   0   0   0   0   0   0   0]\n",
            " [  0   0   0   0  55 172 226 253 253 253 253 244 133  11   0   0   0   0\n",
            "    0   0   0   0   0   0   0   0   0   0]\n",
            " [  0   0   0   0 136 253 253 253 212 135 132  16   0   0   0   0   0   0\n",
            "    0   0   0   0   0   0   0   0   0   0]\n",
            " [  0   0   0   0   0   0   0   0   0   0   0   0   0   0   0   0   0   0\n",
            "    0   0   0   0   0   0   0   0   0   0]\n",
            " [  0   0   0   0   0   0   0   0   0   0   0   0   0   0   0   0   0   0\n",
            "    0   0   0   0   0   0   0   0   0   0]\n",
            " [  0   0   0   0   0   0   0   0   0   0   0   0   0   0   0   0   0   0\n",
            "    0   0   0   0   0   0   0   0   0   0]]\n"
          ]
        }
      ]
    },
    {
      "cell_type": "code",
      "source": [
        "print(plt.matshow(X_train[0]))\n",
        "print(plt.matshow(X_train[11]))"
      ],
      "metadata": {
        "colab": {
          "base_uri": "https://localhost:8080/",
          "height": 892
        },
        "id": "KgF8IgnYVcjE",
        "outputId": "90bd982f-1800-4103-a868-fcd41437da27"
      },
      "execution_count": 6,
      "outputs": [
        {
          "output_type": "stream",
          "name": "stdout",
          "text": [
            "AxesImage(size=(28, 28))\n",
            "AxesImage(size=(28, 28))\n"
          ]
        },
        {
          "output_type": "display_data",
          "data": {
            "text/plain": [
              "<Figure size 480x480 with 1 Axes>"
            ],
            "image/png": "[encoded data removed]"
          },
          "metadata": {}
        },
        {
          "output_type": "display_data",
          "data": {
            "text/plain": [
              "<Figure size 480x480 with 1 Axes>"
            ],
            "image/png": "[encoded data removed]"
          },
          "metadata": {}
        }
      ]
    },
    {
      "cell_type": "code",
      "source": [
        "#manually we are checking the numbers in the dataset\n",
        "print(y_train[0], y_train[11])\n",
        "print(y_train[ : 5])"
      ],
      "metadata": {
        "colab": {
          "base_uri": "https://localhost:8080/"
        },
        "id": "7H5TH29cV538",
        "outputId": "aa34ba04-0b01-449f-9aa5-4d00effb6c68"
      },
      "execution_count": 7,
      "outputs": [
        {
          "output_type": "stream",
          "name": "stdout",
          "text": [
            "5 5\n",
            "[5 0 4 1 9]\n"
          ]
        }
      ]
    },
    {
      "cell_type": "code",
      "source": [
        "#Flattening our Training Dataset - Converting the 78 X 78 image to single dimension.\n",
        "print(X_train.shape)\n",
        "Flattened_X_train = X_train.reshape(len(X_train), 28*28)#(60000, 28, 28) to (60000, 784) ---> 60000 means total records. 28, 28 means dimensions now we have to change the dimensions.\n",
        "print(Flattened_X_train.shape)\n",
        "\n",
        "#Flattening our Testing Dataset - Converting the 78 X 78 image to single dimension.\n",
        "Flattened_X_test = X_test.reshape(len(X_test), 28*28)\n",
        "print(Flattened_X_test.shape)"
      ],
      "metadata": {
        "colab": {
          "base_uri": "https://localhost:8080/"
        },
        "id": "MTy6eWXlWK4m",
        "outputId": "010664fe-d883-4338-87c7-66ee4ad0b657"
      },
      "execution_count": 8,
      "outputs": [
        {
          "output_type": "stream",
          "name": "stdout",
          "text": [
            "(60000, 28, 28)\n",
            "(60000, 784)\n",
            "(10000, 784)\n"
          ]
        }
      ]
    },
    {
      "cell_type": "code",
      "source": [
        "Flattened_X_test"
      ],
      "metadata": {
        "colab": {
          "base_uri": "https://localhost:8080/"
        },
        "id": "2wEWrnm2iNdp",
        "outputId": "3a6eccc7-8de6-466b-acf3-30fdcedb417d"
      },
      "execution_count": 9,
      "outputs": [
        {
          "output_type": "execute_result",
          "data": {
            "text/plain": [
              "array([[0, 0, 0, ..., 0, 0, 0],\n",
              "       [0, 0, 0, ..., 0, 0, 0],\n",
              "       [0, 0, 0, ..., 0, 0, 0],\n",
              "       ...,\n",
              "       [0, 0, 0, ..., 0, 0, 0],\n",
              "       [0, 0, 0, ..., 0, 0, 0],\n",
              "       [0, 0, 0, ..., 0, 0, 0]], dtype=uint8)"
            ]
          },
          "metadata": {},
          "execution_count": 9
        }
      ]
    },
    {
      "cell_type": "markdown",
      "source": [
        "**Creating Neural Network**"
      ],
      "metadata": {
        "id": "h55PlA0DXtzt"
      }
    },
    {
      "cell_type": "code",
      "source": [
        "#Creating a simple Neural Network with 784 input layers (fileds) and 10 output layers (label fields).\n",
        "\n",
        "#Sequential means i am having stack of layers in my neural network.\n",
        "Model = keras.Sequential([\n",
        "    #Dense means all the neurons in one layer connected with every neuron in 2nd layer.\n",
        "    #keras.layers.Dense(ouput_shape, input_shape, activation_function)\n",
        "\n",
        "    keras.layers.Dense(10, input_shape = (784,), activation = 'sigmoid')\n",
        "])\n",
        "\n",
        "#Compiling our model by optimizing each time.\n",
        "Model.compile(\n",
        "    optimizer = 'adam',\n",
        "    loss = 'sparse_categorical_crossentropy', #sparse means our output variable y_train. if it is one hot encoded array we will use sparse categorical corssentropy.\n",
        "    metrics = ['accuracy'] #My goal is to make more accurate my model.\n",
        ")\n",
        "\n",
        "Model.fit(Flattened_X_train, y_train, epochs = 18) #Epoch is nothing but iterations that which my nueral network is going through."
      ],
      "metadata": {
        "id": "o3D0vYu0XcOF",
        "colab": {
          "base_uri": "https://localhost:8080/"
        },
        "outputId": "39e8a807-b5b9-4072-c0b7-22bda50bbc88"
      },
      "execution_count": 10,
      "outputs": [
        {
          "output_type": "stream",
          "name": "stdout",
          "text": [
            "Epoch 1/18\n",
            "1875/1875 [==============================] - 5s 3ms/step - loss: 9.6947 - accuracy: 0.8393\n",
            "Epoch 2/18\n",
            "1875/1875 [==============================] - 4s 2ms/step - loss: 6.1496 - accuracy: 0.8789\n",
            "Epoch 3/18\n",
            "1875/1875 [==============================] - 6s 3ms/step - loss: 5.8087 - accuracy: 0.8835\n",
            "Epoch 4/18\n",
            "1875/1875 [==============================] - 5s 2ms/step - loss: 5.4667 - accuracy: 0.8857\n",
            "Epoch 5/18\n",
            "1875/1875 [==============================] - 3s 2ms/step - loss: 5.3869 - accuracy: 0.8874\n",
            "Epoch 6/18\n",
            "1875/1875 [==============================] - 3s 1ms/step - loss: 5.4422 - accuracy: 0.8862\n",
            "Epoch 7/18\n",
            "1875/1875 [==============================] - 2s 1ms/step - loss: 5.2174 - accuracy: 0.8894\n",
            "Epoch 8/18\n",
            "1875/1875 [==============================] - 2s 1ms/step - loss: 5.2751 - accuracy: 0.8886\n",
            "Epoch 9/18\n",
            "1875/1875 [==============================] - 2s 1ms/step - loss: 5.1795 - accuracy: 0.8906\n",
            "Epoch 10/18\n",
            "1875/1875 [==============================] - 2s 1ms/step - loss: 5.0929 - accuracy: 0.8907\n",
            "Epoch 11/18\n",
            "1875/1875 [==============================] - 3s 1ms/step - loss: 5.2727 - accuracy: 0.8907\n",
            "Epoch 12/18\n",
            "1875/1875 [==============================] - 2s 1ms/step - loss: 5.1732 - accuracy: 0.8897\n",
            "Epoch 13/18\n",
            "1875/1875 [==============================] - 2s 1ms/step - loss: 5.1110 - accuracy: 0.8917\n",
            "Epoch 14/18\n",
            "1875/1875 [==============================] - 2s 1ms/step - loss: 5.1727 - accuracy: 0.8928\n",
            "Epoch 15/18\n",
            "1875/1875 [==============================] - 2s 1ms/step - loss: 5.0910 - accuracy: 0.8929\n",
            "Epoch 16/18\n",
            "1875/1875 [==============================] - 3s 1ms/step - loss: 5.1577 - accuracy: 0.8929\n",
            "Epoch 17/18\n",
            "1875/1875 [==============================] - 2s 1ms/step - loss: 5.1619 - accuracy: 0.8913\n",
            "Epoch 18/18\n",
            "1875/1875 [==============================] - 2s 1ms/step - loss: 5.1684 - accuracy: 0.8938\n"
          ]
        },
        {
          "output_type": "execute_result",
          "data": {
            "text/plain": [
              "<keras.src.callbacks.History at 0x7fed2216aef0>"
            ]
          },
          "metadata": {},
          "execution_count": 10
        }
      ]
    },
    {
      "cell_type": "code",
      "source": [
        "#Let's Evaluate our Model on Testing Data. above accuracy evaluation is of the training data.\n",
        "\n",
        "Model.evaluate(Flattened_X_test, y_test)"
      ],
      "metadata": {
        "colab": {
          "base_uri": "https://localhost:8080/"
        },
        "id": "hqtN5Ey36YVj",
        "outputId": "6dacdce2-1d9c-4cdb-a311-974f2ae001e6"
      },
      "execution_count": 11,
      "outputs": [
        {
          "output_type": "stream",
          "name": "stdout",
          "text": [
            "313/313 [==============================] - 1s 1ms/step - loss: 5.9291 - accuracy: 0.9024\n"
          ]
        },
        {
          "output_type": "execute_result",
          "data": {
            "text/plain": [
              "[5.9291090965271, 0.902400016784668]"
            ]
          },
          "metadata": {},
          "execution_count": 11
        }
      ]
    },
    {
      "cell_type": "code",
      "source": [
        "#Let's apply the model on Scaled Data. bringing the pixel values to the range between 0 - 1\n",
        "\n",
        "Flattened_Scaled_X_Train = Flattened_X_train /255\n",
        "Flattened_Scaled_X_Test = Flattened_X_test /255"
      ],
      "metadata": {
        "id": "axUkntMwIwsy"
      },
      "execution_count": 12,
      "outputs": []
    },
    {
      "cell_type": "code",
      "source": [
        "print(Flattened_Scaled_X_Train[0].shape)\n",
        "print(Flattened_Scaled_X_Train[0])"
      ],
      "metadata": {
        "colab": {
          "base_uri": "https://localhost:8080/"
        },
        "id": "kDqkzXkTLQAo",
        "outputId": "430152c7-e31c-41fa-aef1-6b48cedd047f"
      },
      "execution_count": 13,
      "outputs": [
        {
          "output_type": "stream",
          "name": "stdout",
          "text": [
            "(784,)\n",
            "[0.         0.         0.         0.         0.         0.\n",
            " 0.         0.         0.         0.         0.         0.\n",
            " 0.         0.         0.         0.         0.         0.\n",
            " 0.         0.         0.         0.         0.         0.\n",
            " 0.         0.         0.         0.         0.         0.\n",
            " 0.         0.         0.         0.         0.         0.\n",
            " 0.         0.         0.         0.         0.         0.\n",
            " 0.         0.         0.         0.         0.         0.\n",
            " 0.         0.         0.         0.         0.         0.\n",
            " 0.         0.         0.         0.         0.         0.\n",
            " 0.         0.         0.         0.         0.         0.\n",
            " 0.         0.         0.         0.         0.         0.\n",
            " 0.         0.         0.         0.         0.         0.\n",
            " 0.         0.         0.         0.         0.         0.\n",
            " 0.         0.         0.         0.         0.         0.\n",
            " 0.         0.         0.         0.         0.         0.\n",
            " 0.         0.         0.         0.         0.         0.\n",
            " 0.         0.         0.         0.         0.         0.\n",
            " 0.         0.         0.         0.         0.         0.\n",
            " 0.         0.         0.         0.         0.         0.\n",
            " 0.         0.         0.         0.         0.         0.\n",
            " 0.         0.         0.         0.         0.         0.\n",
            " 0.         0.         0.         0.         0.         0.\n",
            " 0.         0.         0.         0.         0.         0.\n",
            " 0.         0.         0.         0.         0.         0.\n",
            " 0.         0.         0.01176471 0.07058824 0.07058824 0.07058824\n",
            " 0.49411765 0.53333333 0.68627451 0.10196078 0.65098039 1.\n",
            " 0.96862745 0.49803922 0.         0.         0.         0.\n",
            " 0.         0.         0.         0.         0.         0.\n",
            " 0.         0.         0.11764706 0.14117647 0.36862745 0.60392157\n",
            " 0.66666667 0.99215686 0.99215686 0.99215686 0.99215686 0.99215686\n",
            " 0.88235294 0.6745098  0.99215686 0.94901961 0.76470588 0.25098039\n",
            " 0.         0.         0.         0.         0.         0.\n",
            " 0.         0.         0.         0.         0.         0.19215686\n",
            " 0.93333333 0.99215686 0.99215686 0.99215686 0.99215686 0.99215686\n",
            " 0.99215686 0.99215686 0.99215686 0.98431373 0.36470588 0.32156863\n",
            " 0.32156863 0.21960784 0.15294118 0.         0.         0.\n",
            " 0.         0.         0.         0.         0.         0.\n",
            " 0.         0.         0.         0.07058824 0.85882353 0.99215686\n",
            " 0.99215686 0.99215686 0.99215686 0.99215686 0.77647059 0.71372549\n",
            " 0.96862745 0.94509804 0.         0.         0.         0.\n",
            " 0.         0.         0.         0.         0.         0.\n",
            " 0.         0.         0.         0.         0.         0.\n",
            " 0.         0.         0.31372549 0.61176471 0.41960784 0.99215686\n",
            " 0.99215686 0.80392157 0.04313725 0.         0.16862745 0.60392157\n",
            " 0.         0.         0.         0.         0.         0.\n",
            " 0.         0.         0.         0.         0.         0.\n",
            " 0.         0.         0.         0.         0.         0.\n",
            " 0.         0.05490196 0.00392157 0.60392157 0.99215686 0.35294118\n",
            " 0.         0.         0.         0.         0.         0.\n",
            " 0.         0.         0.         0.         0.         0.\n",
            " 0.         0.         0.         0.         0.         0.\n",
            " 0.         0.         0.         0.         0.         0.\n",
            " 0.         0.54509804 0.99215686 0.74509804 0.00784314 0.\n",
            " 0.         0.         0.         0.         0.         0.\n",
            " 0.         0.         0.         0.         0.         0.\n",
            " 0.         0.         0.         0.         0.         0.\n",
            " 0.         0.         0.         0.         0.         0.04313725\n",
            " 0.74509804 0.99215686 0.2745098  0.         0.         0.\n",
            " 0.         0.         0.         0.         0.         0.\n",
            " 0.         0.         0.         0.         0.         0.\n",
            " 0.         0.         0.         0.         0.         0.\n",
            " 0.         0.         0.         0.         0.1372549  0.94509804\n",
            " 0.88235294 0.62745098 0.42352941 0.00392157 0.         0.\n",
            " 0.         0.         0.         0.         0.         0.\n",
            " 0.         0.         0.         0.         0.         0.\n",
            " 0.         0.         0.         0.         0.         0.\n",
            " 0.         0.         0.         0.31764706 0.94117647 0.99215686\n",
            " 0.99215686 0.46666667 0.09803922 0.         0.         0.\n",
            " 0.         0.         0.         0.         0.         0.\n",
            " 0.         0.         0.         0.         0.         0.\n",
            " 0.         0.         0.         0.         0.         0.\n",
            " 0.         0.         0.17647059 0.72941176 0.99215686 0.99215686\n",
            " 0.58823529 0.10588235 0.         0.         0.         0.\n",
            " 0.         0.         0.         0.         0.         0.\n",
            " 0.         0.         0.         0.         0.         0.\n",
            " 0.         0.         0.         0.         0.         0.\n",
            " 0.         0.0627451  0.36470588 0.98823529 0.99215686 0.73333333\n",
            " 0.         0.         0.         0.         0.         0.\n",
            " 0.         0.         0.         0.         0.         0.\n",
            " 0.         0.         0.         0.         0.         0.\n",
            " 0.         0.         0.         0.         0.         0.\n",
            " 0.         0.97647059 0.99215686 0.97647059 0.25098039 0.\n",
            " 0.         0.         0.         0.         0.         0.\n",
            " 0.         0.         0.         0.         0.         0.\n",
            " 0.         0.         0.         0.         0.         0.\n",
            " 0.         0.         0.18039216 0.50980392 0.71764706 0.99215686\n",
            " 0.99215686 0.81176471 0.00784314 0.         0.         0.\n",
            " 0.         0.         0.         0.         0.         0.\n",
            " 0.         0.         0.         0.         0.         0.\n",
            " 0.         0.         0.         0.         0.15294118 0.58039216\n",
            " 0.89803922 0.99215686 0.99215686 0.99215686 0.98039216 0.71372549\n",
            " 0.         0.         0.         0.         0.         0.\n",
            " 0.         0.         0.         0.         0.         0.\n",
            " 0.         0.         0.         0.         0.         0.\n",
            " 0.09411765 0.44705882 0.86666667 0.99215686 0.99215686 0.99215686\n",
            " 0.99215686 0.78823529 0.30588235 0.         0.         0.\n",
            " 0.         0.         0.         0.         0.         0.\n",
            " 0.         0.         0.         0.         0.         0.\n",
            " 0.         0.         0.09019608 0.25882353 0.83529412 0.99215686\n",
            " 0.99215686 0.99215686 0.99215686 0.77647059 0.31764706 0.00784314\n",
            " 0.         0.         0.         0.         0.         0.\n",
            " 0.         0.         0.         0.         0.         0.\n",
            " 0.         0.         0.         0.         0.07058824 0.67058824\n",
            " 0.85882353 0.99215686 0.99215686 0.99215686 0.99215686 0.76470588\n",
            " 0.31372549 0.03529412 0.         0.         0.         0.\n",
            " 0.         0.         0.         0.         0.         0.\n",
            " 0.         0.         0.         0.         0.         0.\n",
            " 0.21568627 0.6745098  0.88627451 0.99215686 0.99215686 0.99215686\n",
            " 0.99215686 0.95686275 0.52156863 0.04313725 0.         0.\n",
            " 0.         0.         0.         0.         0.         0.\n",
            " 0.         0.         0.         0.         0.         0.\n",
            " 0.         0.         0.         0.         0.53333333 0.99215686\n",
            " 0.99215686 0.99215686 0.83137255 0.52941176 0.51764706 0.0627451\n",
            " 0.         0.         0.         0.         0.         0.\n",
            " 0.         0.         0.         0.         0.         0.\n",
            " 0.         0.         0.         0.         0.         0.\n",
            " 0.         0.         0.         0.         0.         0.\n",
            " 0.         0.         0.         0.         0.         0.\n",
            " 0.         0.         0.         0.         0.         0.\n",
            " 0.         0.         0.         0.         0.         0.\n",
            " 0.         0.         0.         0.         0.         0.\n",
            " 0.         0.         0.         0.         0.         0.\n",
            " 0.         0.         0.         0.         0.         0.\n",
            " 0.         0.         0.         0.         0.         0.\n",
            " 0.         0.         0.         0.         0.         0.\n",
            " 0.         0.         0.         0.         0.         0.\n",
            " 0.         0.         0.         0.         0.         0.\n",
            " 0.         0.         0.         0.         0.         0.\n",
            " 0.         0.         0.         0.         0.         0.\n",
            " 0.         0.         0.         0.        ]\n"
          ]
        }
      ]
    },
    {
      "cell_type": "code",
      "source": [
        "#Creating a simple Neural Network with 784 input layers (fileds) and 10 output layers (label fields).\n",
        "\n",
        "#Sequential means i am having stack of layers in my neural network.\n",
        "Model = keras.Sequential([\n",
        "    #Dense means all the neurons in one layer connected with every neuron in 2nd layer.\n",
        "    #keras.layers.Dense(ouput_shape, input_shape, activation_function)\n",
        "\n",
        "    keras.layers.Dense(10, input_shape = (784,), activation = 'sigmoid')\n",
        "])\n",
        "\n",
        "#Compiling our model by optimizing each time.\n",
        "Model.compile(\n",
        "    optimizer = 'adam',\n",
        "    loss = 'sparse_categorical_crossentropy', #sparse means our output variable y_train. if it is one hot encoded array we will use sparse categorical corssentropy.\n",
        "    metrics = ['accuracy'] #My goal is to make more accurate my model.\n",
        ")\n",
        "\n",
        "Model.fit(Flattened_Scaled_X_Train, y_train, epochs = 18) #Epoch is nothing but iterations that which my nueral network is going through."
      ],
      "metadata": {
        "colab": {
          "base_uri": "https://localhost:8080/"
        },
        "id": "YbWqq2ItLm6x",
        "outputId": "86d08682-7ff0-4ab9-bfdf-815bbbb2d91d"
      },
      "execution_count": 14,
      "outputs": [
        {
          "output_type": "stream",
          "name": "stdout",
          "text": [
            "Epoch 1/18\n",
            "1875/1875 [==============================] - 3s 2ms/step - loss: 0.4688 - accuracy: 0.8774\n",
            "Epoch 2/18\n",
            "1875/1875 [==============================] - 4s 2ms/step - loss: 0.3035 - accuracy: 0.9148\n",
            "Epoch 3/18\n",
            "1875/1875 [==============================] - 3s 2ms/step - loss: 0.2837 - accuracy: 0.9206\n",
            "Epoch 4/18\n",
            "1875/1875 [==============================] - 2s 1ms/step - loss: 0.2732 - accuracy: 0.9237\n",
            "Epoch 5/18\n",
            "1875/1875 [==============================] - 2s 1ms/step - loss: 0.2664 - accuracy: 0.9256\n",
            "Epoch 6/18\n",
            "1875/1875 [==============================] - 3s 2ms/step - loss: 0.2619 - accuracy: 0.9272\n",
            "Epoch 7/18\n",
            "1875/1875 [==============================] - 2s 1ms/step - loss: 0.2586 - accuracy: 0.9280\n",
            "Epoch 8/18\n",
            "1875/1875 [==============================] - 2s 1ms/step - loss: 0.2554 - accuracy: 0.9292\n",
            "Epoch 9/18\n",
            "1875/1875 [==============================] - 2s 1ms/step - loss: 0.2530 - accuracy: 0.9293\n",
            "Epoch 10/18\n",
            "1875/1875 [==============================] - 3s 1ms/step - loss: 0.2506 - accuracy: 0.9305\n",
            "Epoch 11/18\n",
            "1875/1875 [==============================] - 3s 1ms/step - loss: 0.2494 - accuracy: 0.9311\n",
            "Epoch 12/18\n",
            "1875/1875 [==============================] - 2s 1ms/step - loss: 0.2476 - accuracy: 0.9317\n",
            "Epoch 13/18\n",
            "1875/1875 [==============================] - 2s 1ms/step - loss: 0.2462 - accuracy: 0.9317\n",
            "Epoch 14/18\n",
            "1875/1875 [==============================] - 2s 1ms/step - loss: 0.2449 - accuracy: 0.9326\n",
            "Epoch 15/18\n",
            "1875/1875 [==============================] - 3s 2ms/step - loss: 0.2436 - accuracy: 0.9316\n",
            "Epoch 16/18\n",
            "1875/1875 [==============================] - 2s 1ms/step - loss: 0.2427 - accuracy: 0.9331\n",
            "Epoch 17/18\n",
            "1875/1875 [==============================] - 2s 1ms/step - loss: 0.2423 - accuracy: 0.9327\n",
            "Epoch 18/18\n",
            "1875/1875 [==============================] - 2s 1ms/step - loss: 0.2412 - accuracy: 0.9336\n"
          ]
        },
        {
          "output_type": "execute_result",
          "data": {
            "text/plain": [
              "<keras.src.callbacks.History at 0x7fed2181ab90>"
            ]
          },
          "metadata": {},
          "execution_count": 14
        }
      ]
    },
    {
      "cell_type": "markdown",
      "source": [
        "*We can see that the Scaled Data improved the accuracy.*"
      ],
      "metadata": {
        "id": "A0Wxz7knMMlH"
      }
    },
    {
      "cell_type": "code",
      "source": [
        "#Let's Evaluate our Model on Testing Data. above accuracy evaluation is of the training data.\n",
        "\n",
        "Model.evaluate(Flattened_Scaled_X_Test, y_test)"
      ],
      "metadata": {
        "colab": {
          "base_uri": "https://localhost:8080/"
        },
        "id": "f-53J5ByLqFP",
        "outputId": "028061e7-f0be-463a-c19e-3a503480b35d"
      },
      "execution_count": 15,
      "outputs": [
        {
          "output_type": "stream",
          "name": "stdout",
          "text": [
            "313/313 [==============================] - 1s 1ms/step - loss: 0.2668 - accuracy: 0.9263\n"
          ]
        },
        {
          "output_type": "execute_result",
          "data": {
            "text/plain": [
              "[0.266805499792099, 0.9262999892234802]"
            ]
          },
          "metadata": {},
          "execution_count": 15
        }
      ]
    },
    {
      "cell_type": "markdown",
      "source": [
        "*We can see that accuracy of our model is quite similar to the training data.*"
      ],
      "metadata": {
        "id": "I8TmfuMfNfHg"
      }
    },
    {
      "cell_type": "code",
      "source": [
        "#Let's Predict one single Image.\n",
        "\n",
        "plt.matshow(X_test[0])"
      ],
      "metadata": {
        "colab": {
          "base_uri": "https://localhost:8080/",
          "height": 454
        },
        "id": "tYizVpP_MoFg",
        "outputId": "264cd318-c821-4d91-988e-b5fb46f8556c"
      },
      "execution_count": 16,
      "outputs": [
        {
          "output_type": "execute_result",
          "data": {
            "text/plain": [
              "<matplotlib.image.AxesImage at 0x7fed22858670>"
            ]
          },
          "metadata": {},
          "execution_count": 16
        },
        {
          "output_type": "display_data",
          "data": {
            "text/plain": [
              "<Figure size 480x480 with 1 Axes>"
            ],
            "image/png": "[encoded data removed]"
          },
          "metadata": {}
        }
      ]
    },
    {
      "cell_type": "code",
      "source": [
        "y_pred = Model.predict(Flattened_Scaled_X_Test)\n",
        "y_pred[0]"
      ],
      "metadata": {
        "colab": {
          "base_uri": "https://localhost:8080/"
        },
        "id": "TfN-PqCJOJT3",
        "outputId": "a1f8e2d7-390b-4c1c-ad62-2405fad1f5b0"
      },
      "execution_count": 17,
      "outputs": [
        {
          "output_type": "stream",
          "name": "stdout",
          "text": [
            "313/313 [==============================] - 1s 1ms/step\n"
          ]
        },
        {
          "output_type": "execute_result",
          "data": {
            "text/plain": [
              "array([3.7920833e-04, 5.9843691e-10, 1.9430261e-03, 9.7523093e-01,\n",
              "       1.2367396e-03, 1.4124794e-01, 7.1022371e-10, 9.9990654e-01,\n",
              "       6.2200900e-02, 6.0607952e-01], dtype=float32)"
            ]
          },
          "metadata": {},
          "execution_count": 17
        }
      ]
    },
    {
      "cell_type": "markdown",
      "source": [
        "*we have to find the max score value of the labels.*"
      ],
      "metadata": {
        "id": "DLliHccqO_S3"
      }
    },
    {
      "cell_type": "code",
      "source": [
        "#We will use the numpy.argmax for finding max value from the predicted array.\n",
        "\n",
        "np.argmax(y_pred[0])#It will gives the max value's index in our List."
      ],
      "metadata": {
        "colab": {
          "base_uri": "https://localhost:8080/"
        },
        "id": "IZIWrhEtOon3",
        "outputId": "ecf6f93a-cfdd-412e-aa41-3f861d929d20"
      },
      "execution_count": 18,
      "outputs": [
        {
          "output_type": "execute_result",
          "data": {
            "text/plain": [
              "7"
            ]
          },
          "metadata": {},
          "execution_count": 18
        }
      ]
    },
    {
      "cell_type": "code",
      "source": [
        "#For Building Confusion matrix, our y_pred values are of scores for every label. now we have to make it like the cell contains of the particular label.\n",
        "\n",
        "print(y_test[0])\n",
        "print(y_pred[0])\n",
        "y_pred_labels = [np.argmax(result) for result in y_pred]\n",
        "y_pred_labels[0]"
      ],
      "metadata": {
        "colab": {
          "base_uri": "https://localhost:8080/"
        },
        "id": "J8qKcOkOP_O_",
        "outputId": "aa55133d-7949-4e4f-b304-308b6f963376"
      },
      "execution_count": 19,
      "outputs": [
        {
          "output_type": "stream",
          "name": "stdout",
          "text": [
            "7\n",
            "[3.7920833e-04 5.9843691e-10 1.9430261e-03 9.7523093e-01 1.2367396e-03\n",
            " 1.4124794e-01 7.1022371e-10 9.9990654e-01 6.2200900e-02 6.0607952e-01]\n"
          ]
        },
        {
          "output_type": "execute_result",
          "data": {
            "text/plain": [
              "7"
            ]
          },
          "metadata": {},
          "execution_count": 19
        }
      ]
    },
    {
      "cell_type": "markdown",
      "source": [
        "*Hence we can see that the predicted results are converted into Labels.*"
      ],
      "metadata": {
        "id": "hEdxveHZQyWx"
      }
    },
    {
      "cell_type": "markdown",
      "source": [
        "**Confusion Matrix**"
      ],
      "metadata": {
        "id": "WgwkFH5MPo9_"
      }
    },
    {
      "cell_type": "code",
      "source": [
        "cm = tf.math.confusion_matrix(labels = y_test, predictions = y_pred_labels)\n",
        "cm"
      ],
      "metadata": {
        "colab": {
          "base_uri": "https://localhost:8080/"
        },
        "id": "sZ8_wHFTPTSY",
        "outputId": "252bf5e5-65e0-42ad-9f79-95376ea2279c"
      },
      "execution_count": 20,
      "outputs": [
        {
          "output_type": "execute_result",
          "data": {
            "text/plain": [
              "<tf.Tensor: shape=(10, 10), dtype=int32, numpy=\n",
              "array([[ 955,    0,    3,    2,    0,    7,    8,    4,    1,    0],\n",
              "       [   0, 1117,    3,    2,    0,    1,    4,    2,    6,    0],\n",
              "       [   5,    8,  936,   15,    8,    3,   12,   10,   32,    3],\n",
              "       [   2,    0,   13,  939,    1,   22,    3,    9,   15,    6],\n",
              "       [   1,    1,    6,    3,  919,    0,    9,    8,   10,   25],\n",
              "       [   8,    3,    2,   42,    9,  775,   15,    8,   28,    2],\n",
              "       [  11,    3,    8,    1,    7,   15,  910,    1,    2,    0],\n",
              "       [   1,    6,   22,    6,    5,    1,    0,  956,    2,   29],\n",
              "       [   6,   13,    6,   32,    8,   27,   11,   13,  849,    9],\n",
              "       [  11,    8,    1,   14,   28,    7,    0,   28,    5,  907]],\n",
              "      dtype=int32)>"
            ]
          },
          "metadata": {},
          "execution_count": 20
        }
      ]
    },
    {
      "cell_type": "code",
      "source": [
        "#Visualising the Confusion Matrix\n",
        "\n",
        "import seaborn as sb\n",
        "plt.figure(figsize = (10, 7))\n",
        "sb.heatmap(cm, annot = True, fmt = 'd')\n",
        "plt.xlabel('Predicted')\n",
        "plt.ylabel('Truth')"
      ],
      "metadata": {
        "colab": {
          "base_uri": "https://localhost:8080/",
          "height": 636
        },
        "id": "fA-ty1giP6HP",
        "outputId": "3449e140-f88c-4288-8d33-1865eb4f6b59"
      },
      "execution_count": 21,
      "outputs": [
        {
          "output_type": "execute_result",
          "data": {
            "text/plain": [
              "Text(95.72222222222221, 0.5, 'Truth')"
            ]
          },
          "metadata": {},
          "execution_count": 21
        },
        {
          "output_type": "display_data",
          "data": {
            "text/plain": [
              "<Figure size 1000x700 with 2 Axes>"
            ],
            "image/png": "[encoded data removed]"
          },
          "metadata": {}
        }
      ]
    },
    {
      "cell_type": "markdown",
      "source": [
        "*Confusion Matrix is a best tool for evaluating our model's predictions. now we only did predictions directly for the input layer now we add hidden layer and let's see the performance of the model.*"
      ],
      "metadata": {
        "id": "hyQ4U0A8SFOQ"
      }
    },
    {
      "cell_type": "markdown",
      "source": [
        "**Adding Hidden Layer**"
      ],
      "metadata": {
        "id": "saTc6HdnSYSg"
      }
    },
    {
      "cell_type": "code",
      "source": [
        "#Creating a simple Neural Network with 784 input layers (fileds) and 10 output layers (label fields).\n",
        "\n",
        "#Sequential means i am having stack of layers in my neural network.\n",
        "Model = keras.Sequential([\n",
        "    #Dense means all the neurons in one layer connected with every neuron in 2nd layer.\n",
        "    #keras.layers.Dense(HiddenLayer Shape, input_shape, activation_function) - Input Layer (we can add hidden layer shape as our wish because there is no specific numbers, we can do as trail and error)\n",
        "    #keras.layers.Dense(OutputLayer Shape, activation_function) - Oyput Layer didn't need input shape because it know how figure it out from the whatever connected layer.\n",
        "\n",
        "    keras.layers.Dense(300, input_shape = (784,), activation = 'relu'),#Let's give the hidden layer size less than the input layer and try.\n",
        "    keras.layers.Dense(100, activation = 'relu'),#we don't need to specify the input shape again in decalaring layers, because it can able to know from above flattening shape by it's own.\n",
        "    keras.layers.Dense(50, activation = 'relu'),\n",
        "    keras.layers.Dense(15, activation = 'relu'),\n",
        "    keras.layers.Dense(10, activation = 'sigmoid'),\n",
        "])\n",
        "\n",
        "#Compiling our model by optimizing each time.\n",
        "Model.compile(\n",
        "    optimizer = 'adam',\n",
        "    loss = 'sparse_categorical_crossentropy', #sparse means our output variable y_train. if it is one hot encoded array we will use sparse categorical corssentropy.\n",
        "    metrics = ['accuracy'] #My goal is to make more accurate my model.\n",
        ")\n",
        "\n",
        "Model.fit(Flattened_Scaled_X_Train, y_train, epochs = 18) #Epoch is nothing but iterations that which my nueral network is going through."
      ],
      "metadata": {
        "colab": {
          "base_uri": "https://localhost:8080/"
        },
        "id": "nk-4XaWXP8V3",
        "outputId": "2d4c48fb-f448-4e1c-b072-428e3bcbc4a7"
      },
      "execution_count": 29,
      "outputs": [
        {
          "output_type": "stream",
          "name": "stdout",
          "text": [
            "Epoch 1/18\n",
            "1875/1875 [==============================] - 9s 4ms/step - loss: 0.2469 - accuracy: 0.9272\n",
            "Epoch 2/18\n",
            "1875/1875 [==============================] - 8s 4ms/step - loss: 0.0994 - accuracy: 0.9702\n",
            "Epoch 3/18\n",
            "1875/1875 [==============================] - 8s 4ms/step - loss: 0.0701 - accuracy: 0.9779\n",
            "Epoch 4/18\n",
            "1875/1875 [==============================] - 7s 4ms/step - loss: 0.0529 - accuracy: 0.9834\n",
            "Epoch 5/18\n",
            "1875/1875 [==============================] - 8s 4ms/step - loss: 0.0432 - accuracy: 0.9864\n",
            "Epoch 6/18\n",
            "1875/1875 [==============================] - 8s 4ms/step - loss: 0.0346 - accuracy: 0.9892\n",
            "Epoch 7/18\n",
            "1875/1875 [==============================] - 7s 4ms/step - loss: 0.0308 - accuracy: 0.9900\n",
            "Epoch 8/18\n",
            "1875/1875 [==============================] - 8s 4ms/step - loss: 0.0263 - accuracy: 0.9919\n",
            "Epoch 9/18\n",
            "1875/1875 [==============================] - 8s 4ms/step - loss: 0.0243 - accuracy: 0.9926\n",
            "Epoch 10/18\n",
            "1875/1875 [==============================] - 7s 4ms/step - loss: 0.0207 - accuracy: 0.9938\n",
            "Epoch 11/18\n",
            "1875/1875 [==============================] - 8s 4ms/step - loss: 0.0198 - accuracy: 0.9940\n",
            "Epoch 12/18\n",
            "1875/1875 [==============================] - 8s 4ms/step - loss: 0.0195 - accuracy: 0.9940\n",
            "Epoch 13/18\n",
            "1875/1875 [==============================] - 7s 4ms/step - loss: 0.0163 - accuracy: 0.9951\n",
            "Epoch 14/18\n",
            "1875/1875 [==============================] - 8s 4ms/step - loss: 0.0149 - accuracy: 0.9954\n",
            "Epoch 15/18\n",
            "1875/1875 [==============================] - 8s 4ms/step - loss: 0.0133 - accuracy: 0.9958\n",
            "Epoch 16/18\n",
            "1875/1875 [==============================] - 7s 4ms/step - loss: 0.0141 - accuracy: 0.9956\n",
            "Epoch 17/18\n",
            "1875/1875 [==============================] - 8s 4ms/step - loss: 0.0137 - accuracy: 0.9958\n",
            "Epoch 18/18\n",
            "1875/1875 [==============================] - 8s 4ms/step - loss: 0.0114 - accuracy: 0.9967\n"
          ]
        },
        {
          "output_type": "execute_result",
          "data": {
            "text/plain": [
              "<keras.src.callbacks.History at 0x7fed0e7366b0>"
            ]
          },
          "metadata": {},
          "execution_count": 29
        }
      ]
    },
    {
      "cell_type": "code",
      "source": [
        "Model.evaluate(Flattened_Scaled_X_Test, y_test)"
      ],
      "metadata": {
        "colab": {
          "base_uri": "https://localhost:8080/"
        },
        "id": "We7AfWFBV-FA",
        "outputId": "92639f2c-e0ed-4348-a305-6cbd838e9d6f"
      },
      "execution_count": 30,
      "outputs": [
        {
          "output_type": "stream",
          "name": "stdout",
          "text": [
            "313/313 [==============================] - 1s 2ms/step - loss: 0.0914 - accuracy: 0.9825\n"
          ]
        },
        {
          "output_type": "execute_result",
          "data": {
            "text/plain": [
              "[0.09137933701276779, 0.9825000166893005]"
            ]
          },
          "metadata": {},
          "execution_count": 30
        }
      ]
    },
    {
      "cell_type": "markdown",
      "source": [
        "*We can see that there is an improved accuracy from 92% to 98% when adding the hidden layer.*"
      ],
      "metadata": {
        "id": "p2eb0hZaWH23"
      }
    },
    {
      "cell_type": "code",
      "source": [
        "#Predictions\n",
        "y_pred = Model.predict(Flattened_Scaled_X_Test)\n",
        "y_pred[0]"
      ],
      "metadata": {
        "colab": {
          "base_uri": "https://localhost:8080/"
        },
        "id": "ZEdw9sIQUba_",
        "outputId": "bda6ddbf-a8e9-43fe-add4-35d404fd3523"
      },
      "execution_count": 24,
      "outputs": [
        {
          "output_type": "stream",
          "name": "stdout",
          "text": [
            "313/313 [==============================] - 1s 2ms/step\n"
          ]
        },
        {
          "output_type": "execute_result",
          "data": {
            "text/plain": [
              "array([5.2133683e-11, 9.8551524e-01, 6.4791374e-02, 1.3551281e-01,\n",
              "       1.2904439e-04, 2.6189748e-06, 3.0855909e-07, 1.0000000e+00,\n",
              "       5.4212076e-05, 3.1802159e-02], dtype=float32)"
            ]
          },
          "metadata": {},
          "execution_count": 24
        }
      ]
    },
    {
      "cell_type": "code",
      "source": [
        "#Converting the prediction values to Labels\n",
        "\n",
        "y_pred_labels = [np.argmax(result) for result in y_pred]\n",
        "y_pred_labels[0]"
      ],
      "metadata": {
        "colab": {
          "base_uri": "https://localhost:8080/"
        },
        "id": "BUHi9FBvUtc4",
        "outputId": "7479036d-a52d-45c5-c103-3ecbd0b1e9b0"
      },
      "execution_count": 25,
      "outputs": [
        {
          "output_type": "execute_result",
          "data": {
            "text/plain": [
              "7"
            ]
          },
          "metadata": {},
          "execution_count": 25
        }
      ]
    },
    {
      "cell_type": "code",
      "source": [
        "#Confusion Matrix\n",
        "\n",
        "cm = tf.math.confusion_matrix(labels = y_test, predictions = y_pred_labels)\n",
        "cm"
      ],
      "metadata": {
        "colab": {
          "base_uri": "https://localhost:8080/"
        },
        "id": "KafFaF2aVa_n",
        "outputId": "16bbe671-a7e7-4bb0-f13b-2da5965d90f2"
      },
      "execution_count": 26,
      "outputs": [
        {
          "output_type": "execute_result",
          "data": {
            "text/plain": [
              "<tf.Tensor: shape=(10, 10), dtype=int32, numpy=\n",
              "array([[ 975,    0,    0,    0,    0,    1,    2,    1,    1,    0],\n",
              "       [   0, 1126,    2,    1,    0,    0,    1,    1,    4,    0],\n",
              "       [   5,    5, 1004,    3,    0,    1,    2,    6,    6,    0],\n",
              "       [   2,    0,    3,  986,    0,    6,    0,    6,    3,    4],\n",
              "       [   1,    0,    2,    0,  968,    0,    4,    5,    0,    2],\n",
              "       [   2,    0,    0,   10,    2,  866,    5,    2,    4,    1],\n",
              "       [   4,    4,    0,    0,    4,    2,  943,    0,    1,    0],\n",
              "       [   1,    2,    7,    2,    0,    0,    0, 1011,    3,    2],\n",
              "       [   8,    1,    3,    3,    2,    4,    1,    3,  942,    7],\n",
              "       [   2,    2,    0,    4,   18,    6,    0,    9,    0,  968]],\n",
              "      dtype=int32)>"
            ]
          },
          "metadata": {},
          "execution_count": 26
        }
      ]
    },
    {
      "cell_type": "code",
      "source": [
        "#Visualising\n",
        "\n",
        "plt.figure(figsize = (10, 7))\n",
        "sb.heatmap(cm, annot = True, fmt = 'd')\n",
        "plt.xlabel('Predicted')\n",
        "plt.ylabel('Truth')"
      ],
      "metadata": {
        "colab": {
          "base_uri": "https://localhost:8080/",
          "height": 636
        },
        "id": "VYr8aHhmViy_",
        "outputId": "3f46828d-5ca4-486e-c0e1-8765466dc4b8"
      },
      "execution_count": 27,
      "outputs": [
        {
          "output_type": "execute_result",
          "data": {
            "text/plain": [
              "Text(95.72222222222221, 0.5, 'Truth')"
            ]
          },
          "metadata": {},
          "execution_count": 27
        },
        {
          "output_type": "display_data",
          "data": {
            "text/plain": [
              "<Figure size 1000x700 with 2 Axes>"
            ],
            "image/png": "[encoded data removed]"
          },
          "metadata": {}
        }
      ]
    },
    {
      "cell_type": "markdown",
      "source": [
        "*The Diagnol Box values are increased. if diagnol box values are big numbers than the other then that is the perfect state that our model is perfectly doing accurate predictions. But every time is not perfect.*"
      ],
      "metadata": {
        "id": "JcA8lVHeZQMI"
      }
    }
  ]
}